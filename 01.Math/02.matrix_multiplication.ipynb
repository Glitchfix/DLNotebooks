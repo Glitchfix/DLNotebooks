{
 "cells": [
  {
   "cell_type": "code",
   "execution_count": 1,
   "metadata": {},
   "outputs": [],
   "source": [
    "# import libraries\n",
    "import numpy as np\n",
    "import torch"
   ]
  },
  {
   "cell_type": "code",
   "execution_count": 2,
   "metadata": {},
   "outputs": [
    {
     "name": "stdout",
     "output_type": "stream",
     "text": [
      "[[-0.77 -2.59 -5.99 -5.42  0.44]\n",
      " [-8.77 -0.36 -0.96 -6.8   0.94]\n",
      " [ 1.18  0.69 -1.49  0.53  1.25]]\n",
      " \n",
      "[[-0.31  1.68 -2.22 -0.4 ]\n",
      " [ 1.94 -0.73  2.46  0.11]\n",
      " [-0.14 -2.05  2.29  0.11]\n",
      " [-0.33  0.97 -1.5   2.33]\n",
      " [-0.55 -2.84  2.84  1.45]\n",
      " [ 0.82  3.8  -4.02  5.87]\n",
      " [ 0.29 -3.06  3.76  2.05]]\n"
     ]
    }
   ],
   "source": [
    "# create some random matrices\n",
    "A = np.random.randn(3,4)\n",
    "B = np.random.randn(4,5)\n",
    "C = np.random.randn(3,7)\n",
    "\n",
    "# try some multiplications...\n",
    "print(np.round( A@B   ,2)), print(' ')\n",
    "# print(np.round( A@C   ,2)), print(' ')\n",
    "# print(np.round( B@C   ,2)), print(' ')\n",
    "print(np.round( C.T@A ,2))"
   ]
  },
  {
   "cell_type": "code",
   "execution_count": 3,
   "metadata": {},
   "outputs": [
    {
     "name": "stdout",
     "output_type": "stream",
     "text": [
      "tensor([[-3.0300, -1.1200,  2.6000,  1.3300, -0.6000, -1.8000, -1.1100],\n",
      "        [-0.8700, -0.5400,  1.5600, -0.2900, -0.3900, -1.5100, -0.5300],\n",
      "        [ 1.0400,  2.0400, -0.0200,  0.1200,  1.0400, -0.1700, -0.0600]],\n",
      "       dtype=torch.float64)\n",
      " \n",
      "tensor([[-3.0300, -1.1200,  2.6000,  1.3300, -0.6000, -1.8000, -1.1100],\n",
      "        [-0.8700, -0.5400,  1.5600, -0.2900, -0.3900, -1.5100, -0.5300],\n",
      "        [ 1.0400,  2.0400, -0.0200,  0.1200,  1.0400, -0.1700, -0.0600]])\n"
     ]
    }
   ],
   "source": [
    "# create some random matrices\n",
    "A  = torch.randn(3,4)\n",
    "B  = torch.randn(4,5)\n",
    "C1 = np.random.randn(4,7)\n",
    "C2 = torch.tensor( C1,dtype=torch.float )\n",
    "\n",
    "# try some multiplications...\n",
    "# print(np.round( A@B   ,2)), print(' ')\n",
    "# print(np.round( A@B.T ,2)), print(' ')\n",
    "print(np.round( A@C1  ,2)), print(' ')\n",
    "print(np.round( A@C2  ,2))"
   ]
  }
 ],
 "metadata": {
  "kernelspec": {
   "display_name": ".venv",
   "language": "python",
   "name": "python3"
  },
  "language_info": {
   "codemirror_mode": {
    "name": "ipython",
    "version": 3
   },
   "file_extension": ".py",
   "mimetype": "text/x-python",
   "name": "python",
   "nbconvert_exporter": "python",
   "pygments_lexer": "ipython3",
   "version": "3.10.6"
  },
  "orig_nbformat": 4
 },
 "nbformat": 4,
 "nbformat_minor": 2
}
