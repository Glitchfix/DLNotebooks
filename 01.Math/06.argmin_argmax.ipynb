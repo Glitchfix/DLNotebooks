{
 "cells": [
  {
   "cell_type": "code",
   "execution_count": 2,
   "metadata": {},
   "outputs": [],
   "source": [
    "# import libraries\n",
    "import numpy as np\n",
    "import torch\n",
    "import torch.nn as nn\n",
    "import matplotlib.pyplot as plt"
   ]
  },
  {
   "cell_type": "code",
   "execution_count": 3,
   "metadata": {},
   "outputs": [
    {
     "name": "stdout",
     "output_type": "stream",
     "text": [
      "Min,max: -3,40\n",
      "Min,max indices: 3,1\n",
      " \n",
      "Min val is -3, max val is 40\n"
     ]
    }
   ],
   "source": [
    "# create a vector\n",
    "v = np.array([ 1,40,2,-3 ])\n",
    "\n",
    "# find and report the maximum and minimum values\n",
    "minval = np.min(v)\n",
    "maxval = np.max(v)\n",
    "\n",
    "print('Min,max: %g,%g' %(minval,maxval) )\n",
    "\n",
    "\n",
    "# now for the argmin/max\n",
    "minidx = np.argmin(v)\n",
    "maxidx = np.argmax(v)\n",
    "\n",
    "print('Min,max indices: %g,%g' %(minidx,maxidx) ), print(' ')\n",
    "\n",
    "# confirm\n",
    "print(f'Min val is { v[minidx] }, max val is { v[maxidx] }')"
   ]
  },
  {
   "cell_type": "code",
   "execution_count": 4,
   "metadata": {},
   "outputs": [
    {
     "name": "stdout",
     "output_type": "stream",
     "text": [
      "[[ 0  1 10]\n",
      " [20  8  5]]\n",
      " \n",
      "0\n",
      "[0 1 5]\n",
      "[0 5]\n"
     ]
    }
   ],
   "source": [
    "# repeat with matrix\n",
    "M = np.array([ [0,1,10], [20,8,5] ])\n",
    "print(M), print(' ')\n",
    "\n",
    "# various minima in this matrix!\n",
    "minvals1 = np.min(M)        # minimum from ENTIRE matrix\n",
    "minvals2 = np.min(M,axis=0) # minimum of each column (across rows)\n",
    "minvals3 = np.min(M,axis=1) # minimum of each row (across columns)\n",
    "\n",
    "# print them out\n",
    "print(minvals1)\n",
    "print(minvals2)\n",
    "print(minvals3)"
   ]
  },
  {
   "attachments": {},
   "cell_type": "markdown",
   "metadata": {},
   "source": [
    "# Pytorch"
   ]
  },
  {
   "cell_type": "code",
   "execution_count": 5,
   "metadata": {},
   "outputs": [
    {
     "name": "stdout",
     "output_type": "stream",
     "text": [
      "Min,max: -3,40\n",
      "Min,max indices: 3,1\n",
      " \n",
      "Min val is -3, max val is 40\n"
     ]
    }
   ],
   "source": [
    "# create a vector\n",
    "v = torch.tensor([ 1,40,2,-3 ])\n",
    "\n",
    "# find and report the maximum and minimum values\n",
    "minval = torch.min(v)\n",
    "maxval = torch.max(v)\n",
    "\n",
    "print('Min,max: %g,%g' %(minval,maxval) )\n",
    "\n",
    "\n",
    "# now for the argmin/max\n",
    "minidx = torch.argmin(v)\n",
    "maxidx = torch.argmax(v)\n",
    "\n",
    "print('Min,max indices: %g,%g' %(minidx,maxidx) ), print(' ')\n",
    "\n",
    "# confirm\n",
    "print(f'Min val is { v[minidx] }, max val is { v[maxidx] }')"
   ]
  },
  {
   "cell_type": "code",
   "execution_count": 6,
   "metadata": {},
   "outputs": [
    {
     "name": "stdout",
     "output_type": "stream",
     "text": [
      "tensor([[ 0,  1, 10],\n",
      "        [20,  8,  5]])\n",
      " \n",
      "tensor(0)\n",
      " \n",
      "torch.return_types.min(\n",
      "values=tensor([0, 1, 5]),\n",
      "indices=tensor([0, 0, 1]))\n",
      " \n",
      "tensor([0, 1, 5])\n",
      "tensor([0, 0, 1])\n"
     ]
    }
   ],
   "source": [
    "# repeat with matrix\n",
    "M = torch.tensor([ [0,1,10], [20,8,5] ])\n",
    "print(M), print(' ')\n",
    "\n",
    "# various minima in this matrix!\n",
    "min1 = torch.min(M)        # minimum from ENTIRE matrix\n",
    "min2 = torch.min(M,axis=0) # minimum of each column (across rows)\n",
    "min3 = torch.min(M,axis=1) # minimum of each row (across columns)\n",
    "\n",
    "# print them out\n",
    "print(min1), print(' ')\n",
    "print(min2), print(' ')\n",
    "print(min2.values)\n",
    "print(min2.indices)"
   ]
  }
 ],
 "metadata": {
  "kernelspec": {
   "display_name": ".venv",
   "language": "python",
   "name": "python3"
  },
  "language_info": {
   "codemirror_mode": {
    "name": "ipython",
    "version": 3
   },
   "file_extension": ".py",
   "mimetype": "text/x-python",
   "name": "python",
   "nbconvert_exporter": "python",
   "pygments_lexer": "ipython3",
   "version": "3.10.6"
  },
  "orig_nbformat": 4
 },
 "nbformat": 4,
 "nbformat_minor": 2
}
